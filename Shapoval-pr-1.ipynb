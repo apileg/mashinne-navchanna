{
  "metadata": {
    "kernelspec": {
      "name": "python",
      "display_name": "Python (Pyodide)",
      "language": "python"
    },
    "language_info": {
      "codemirror_mode": {
        "name": "python",
        "version": 3
      },
      "file_extension": ".py",
      "mimetype": "text/x-python",
      "name": "python",
      "nbconvert_exporter": "python",
      "pygments_lexer": "ipython3",
      "version": "3.8"
    }
  },
  "nbformat_minor": 5,
  "nbformat": 4,
  "cells": [
    {
      "id": "2171b5ed-fd3c-4f0c-af3b-f227eee36168",
      "cell_type": "markdown",
      "source": "Завдання 1. Створіть одновимірний масив (вектор) з першими 10-ма натуральними числами та\nвиведіть його значення.",
      "metadata": {}
    },
    {
      "id": "c9dfaf1d-bfce-44a3-bfd3-64b77e70c720",
      "cell_type": "code",
      "source": "import numpy as np\n\n# Створюємо одновимірний масив з першими 10-ма натуральними числами\nvector = np.arange(1, 11)\n\n# Виводимо значення масиву\nvector\n",
      "metadata": {
        "trusted": true
      },
      "outputs": [
        {
          "execution_count": 3,
          "output_type": "execute_result",
          "data": {
            "text/plain": "array([ 1,  2,  3,  4,  5,  6,  7,  8,  9, 10])"
          },
          "metadata": {}
        }
      ],
      "execution_count": 3
    },
    {
      "id": "36230319-71b2-4baa-898c-20c82143219c",
      "cell_type": "markdown",
      "source": "Завдання 2. Створіть двовимірний масив (матрицю) розміром 4x4, заповніть його одиницями та\nвиведіть його значення.",
      "metadata": {}
    },
    {
      "id": "430636c7-d8a1-4414-9d15-8a28fe4cf161",
      "cell_type": "code",
      "source": "import numpy as np\n\n# Створюємо двовимірний масив (матрицю) розміром 4x4, заповнений одиницями\nmatrix = np.ones((4, 4))\n\n# Виводимо значення матриці\nprint(matrix)\n",
      "metadata": {
        "trusted": true
      },
      "outputs": [
        {
          "name": "stdout",
          "text": "[[1. 1. 1. 1.]\n [1. 1. 1. 1.]\n [1. 1. 1. 1.]\n [1. 1. 1. 1.]]\n",
          "output_type": "stream"
        }
      ],
      "execution_count": 2
    },
    {
      "id": "ea1e0b59-3633-4fe9-b003-5c0849618908",
      "cell_type": "markdown",
      "source": "Завдання 3. Створіть масив розміром 4x4, заповніть його випадковими цілими числами в діапазоні\nвід 1 до 5 та виведіть його значення.",
      "metadata": {}
    },
    {
      "id": "0ce338d2-6527-41ab-8cc6-2581f8296294",
      "cell_type": "code",
      "source": "import numpy as np\n\n# Створюємо двовимірний масив (матрицю) розміром 4x4, заповнений випадковими цілими числами від 1 до 5\nmatrix = np.random.randint(1, 6, size=(4, 4))\n\n# Виводимо значення матриці\nprint(matrix)\n",
      "metadata": {
        "trusted": true
      },
      "outputs": [
        {
          "name": "stdout",
          "text": "[[3 1 4 1]\n [2 5 4 3]\n [4 2 3 2]\n [3 2 3 3]]\n",
          "output_type": "stream"
        }
      ],
      "execution_count": 4
    },
    {
      "id": "702b8602-52b3-49e6-ba1a-a35624cb14af",
      "cell_type": "markdown",
      "source": "Завдання 4. Створіть масив розміром 3x3, заповніть його випадковими дійсними числами в\nдіапазоні від 0 до 1 та виведіть його значення",
      "metadata": {}
    },
    {
      "id": "c0dd5ca6-b341-444a-a521-a9a346687af6",
      "cell_type": "code",
      "source": "import numpy as np\n\n# Створюємо двовимірний масив (матрицю) розміром 3x3, заповнений випадковими дійсними числами від 0 до 1\nmatrix = np.random.rand(3, 3)\n\n# Виводимо значення матриці\nprint(matrix)\n",
      "metadata": {
        "trusted": true
      },
      "outputs": [
        {
          "name": "stdout",
          "text": "[[0.76070728 0.24889347 0.92327248]\n [0.50376761 0.66449953 0.18411603]\n [0.48113823 0.88038446 0.10664417]]\n",
          "output_type": "stream"
        }
      ],
      "execution_count": 5
    },
    {
      "id": "7110f86e-a1cc-43aa-a512-bc9e62e756d2",
      "cell_type": "markdown",
      "source": "Завдання 5. Створіть два одновимірних масиви розміром 6, заповніть їх випадковими цілими\nчислами в діапазоні від 1 до 20 та виконайте на них поелементні операції додавання,\nвіднімання та множення",
      "metadata": {}
    },
    {
      "id": "5e1d3d30-aa84-41c6-a4ad-10742f5f0542",
      "cell_type": "code",
      "source": "import numpy as np\n\n# Створюємо два одновимірних масиви розміром 6, заповнені випадковими цілими числами від 1 до 20\narray1 = np.random.randint(1, 21, size=6)\narray2 = np.random.randint(1, 21, size=6)\n\n# Поелементне додавання\naddition = array1 + array2\n\n# Поелементне віднімання\nsubtraction = array1 - array2\n\n# Поелементне множення\nmultiplication = array1 * array2\n\n# Виводимо значення масивів та результати операцій\nprint(\"Масив 1:\", array1)\nprint(\"Масив 2:\", array2)\nprint(\"Додавання:\", addition)\nprint(\"Віднімання:\", subtraction)\nprint(\"Множення:\", multiplication)\n",
      "metadata": {
        "trusted": true
      },
      "outputs": [
        {
          "name": "stdout",
          "text": "Масив 1: [11 15 11 10 13 20]\nМасив 2: [12  4 14 18 19 11]\nДодавання: [23 19 25 28 32 31]\nВіднімання: [-1 11 -3 -8 -6  9]\nМноження: [132  60 154 180 247 220]\n",
          "output_type": "stream"
        }
      ],
      "execution_count": 6
    },
    {
      "id": "2926cee0-830d-4eb2-b235-63a179211c0b",
      "cell_type": "markdown",
      "source": "Завдання 6. Створіть два матриці 2x2, заповніть їх довільними цілими числами та знайдіть їх\nдобуток.",
      "metadata": {}
    },
    {
      "id": "9d5ab82d-8c7f-494b-a89a-58b078e2ce85",
      "cell_type": "code",
      "source": "import numpy as np\n\n# Створюємо дві матриці розміром 2x2, заповнені довільними цілими числами\nmatrix1 = np.array([[1, 2], [3, 4]])\nmatrix2 = np.array([[5, 6], [7, 8]])\n\n# Знаходимо їх добуток\nproduct = np.dot(matrix1, matrix2)\n\n# Виводимо значення матриць та їх добуток\nprint(\"Матриця 1:\")\nprint(matrix1)\nprint(\"\\nМатриця 2:\")\nprint(matrix2)\nprint(\"\\nДобуток матриць:\")\nprint(product)\n",
      "metadata": {
        "trusted": true
      },
      "outputs": [
        {
          "name": "stdout",
          "text": "Матриця 1:\n[[1 2]\n [3 4]]\n\nМатриця 2:\n[[5 6]\n [7 8]]\n\nДобуток матриць:\n[[19 22]\n [43 50]]\n",
          "output_type": "stream"
        }
      ],
      "execution_count": 7
    },
    {
      "id": "bb0dce75-a91c-4d65-b4cb-e6c57df1a69e",
      "cell_type": "markdown",
      "source": "Завдання 7. Створіть дві матриці розміром 3x2 та 2x4, заповніть їх випадковими цілими числами\nв діапазоні від 1 до 10 та перемножте їх між собою.\n",
      "metadata": {}
    },
    {
      "id": "5d908b0d-fcff-4b4f-93fb-9865926e7cef",
      "cell_type": "code",
      "source": "import numpy as np\n\n# Створюємо матрицю розміром 3x2 з випадковими цілими числами від 1 до 10\nmatrix_3x2 = np.random.randint(1, 11, size=(3, 2))\nprint(\"Матриця 3x2:\")\nprint(matrix_3x2)\n\n# Створюємо матрицю розміром 2x4 з випадковими цілими числами від 1 до 10\nmatrix_2x4 = np.random.randint(1, 11, size=(2, 4))\nprint(\"\\nМатриця 2x4:\")\nprint(matrix_2x4)\n\n# Перемножуємо матриці\nresult = np.dot(matrix_3x2, matrix_2x4)\nprint(\"\\nРезультат множення матриць:\")\nprint(result)\n",
      "metadata": {
        "trusted": true
      },
      "outputs": [
        {
          "name": "stdout",
          "text": "Матриця 3x2:\n[[3 5]\n [3 7]\n [7 4]]\n\nМатриця 2x4:\n[[ 8  3  8  9]\n [ 6  2  2 10]]\n\nРезультат множення матриць:\n[[ 54  19  34  77]\n [ 66  23  38  97]\n [ 80  29  64 103]]\n",
          "output_type": "stream"
        }
      ],
      "execution_count": 8
    },
    {
      "id": "4dd10dab-96e3-4331-82a5-f54aa1bfec41",
      "cell_type": "markdown",
      "source": "Завдання 8. Створіть матрицю розміром 2x2, заповніть її випадковими цілими числами в діапазоні\nвід 1 до 7 та знайдіть її обернену матрицю",
      "metadata": {}
    },
    {
      "id": "bd49f9a5-0dd1-4e07-9bad-64ef1dd94c9d",
      "cell_type": "code",
      "source": "import numpy as np\n\n# Створюємо матрицю розміром 2x2 з випадковими цілими числами від 1 до 7\nmatrix_2x2 = np.random.randint(1, 8, size=(2, 2))\nprint(\"Матриця 2x2:\")\nprint(matrix_2x2)\n\n# Перевіряємо, чи матриця є оберненою (не вироджена)\nif np.linalg.det(matrix_2x2) != 0:\n    # Знаходимо обернену матрицю\n    inverse_matrix = np.linalg.inv(matrix_2x2)\n    print(\"\\nОбернена матриця:\")\n    print(inverse_matrix)\nelse:\n    print(\"\\nМатриця є виродженою і не має оберненої матриці.\")\n",
      "metadata": {
        "trusted": true
      },
      "outputs": [
        {
          "name": "stdout",
          "text": "Матриця 2x2:\n[[7 2]\n [4 5]]\n\nОбернена матриця:\n[[ 0.18518519 -0.07407407]\n [-0.14814815  0.25925926]]\n",
          "output_type": "stream"
        }
      ],
      "execution_count": 9
    },
    {
      "id": "ec99a2f4-62aa-4ff9-9267-6cd2ce424782",
      "cell_type": "markdown",
      "source": "Завдання 9. Створіть матрицю розміром 3x3, заповніть її випадковими дійсними числами в\nдіапазоні від 0 до 1 та транспонуйте її.\n",
      "metadata": {}
    },
    {
      "id": "6de18815-5839-4796-9e91-211e72a4995b",
      "cell_type": "code",
      "source": "import numpy as np\n\n# Створюємо матрицю розміром 3x3 з випадковими дійсними числами від 0 до 1\nmatrix_3x3 = np.random.rand(3, 3)\nprint(\"Матриця 3x3:\")\nprint(matrix_3x3)\n\n# Транспонуємо матрицю\ntransposed_matrix = np.transpose(matrix_3x3)\nprint(\"\\nТранспонована матриця:\")\nprint(transposed_matrix)\n",
      "metadata": {
        "trusted": true
      },
      "outputs": [
        {
          "name": "stdout",
          "text": "Матриця 3x3:\n[[0.78046787 0.4124374  0.45417469]\n [0.47794448 0.72802439 0.51218966]\n [0.36560118 0.62271367 0.43701887]]\n\nТранспонована матриця:\n[[0.78046787 0.47794448 0.36560118]\n [0.4124374  0.72802439 0.62271367]\n [0.45417469 0.51218966 0.43701887]]\n",
          "output_type": "stream"
        }
      ],
      "execution_count": 10
    },
    {
      "id": "d79273ad-0375-4f29-82dc-a6566b415560",
      "cell_type": "markdown",
      "source": "Завдання 10. Створіть матрицю розміром 3x4 та вектор розміром 4 x1, заповніть їх випадковими\nцілими числами в діапазоні від 1 до 10 та знайдіть добуток матриці на вектор.",
      "metadata": {}
    },
    {
      "id": "4ffb856b-19b9-4fc1-b251-8cbd06549d05",
      "cell_type": "code",
      "source": "import numpy as np\n\n# Створюємо матрицю розміром 3x4 з випадковими цілими числами від 1 до 10\nmatrix_3x4 = np.random.randint(1, 11, size=(3, 4))\nprint(\"Матриця 3x4:\")\nprint(matrix_3x4)\n\n# Створюємо вектор розміром 4x1 з випадковими цілими числами від 1 до 10\nvector_4x1 = np.random.randint(1, 11, size=(4, 1))\nprint(\"\\nВектор 4x1:\")\nprint(vector_4x1)\n\n# Знаходимо добуток матриці на вектор\nproduct = np.dot(matrix_3x4, vector_4x1)\nprint(\"\\nДобуток матриці на вектор:\")\nprint(product)\n",
      "metadata": {
        "trusted": true
      },
      "outputs": [
        {
          "name": "stdout",
          "text": "Матриця 3x4:\n[[2 3 1 6]\n [8 9 7 3]\n [4 6 6 6]]\n\nВектор 4x1:\n[[3]\n [3]\n [8]\n [6]]\n\nДобуток матриці на вектор:\n[[ 59]\n [125]\n [114]]\n",
          "output_type": "stream"
        }
      ],
      "execution_count": 11
    },
    {
      "id": "830b5dcb-d40f-4984-8221-bafd9972f00a",
      "cell_type": "markdown",
      "source": "Завдання 11. Створіть матрицю розміром 2x3 та вектор розміром 3x1, заповніть матрицю\nвипадковими цілими числами в діапазоні від 1 до 10, а вектор - випадковими цілими\nчислами в діапазоні від 1 до 10, і знайдіть добуток матриці на вектор.",
      "metadata": {}
    },
    {
      "id": "01ab378b-f2a5-4489-8614-316b160071e4",
      "cell_type": "code",
      "source": "import numpy as np\n\n# Створюємо матрицю розміром 2x3 з випадковими цілими числами від 1 до 10\nmatrix_2x3 = np.random.randint(1, 11, size=(2, 3))\nprint(\"Матриця 2x3:\")\nprint(matrix_2x3)\n\n# Створюємо вектор розміром 3x1 з випадковими цілими числами від 1 до 10\nvector_3x1 = np.random.randint(1, 11, size=(3, 1))\nprint(\"\\nВектор 3x1:\")\nprint(vector_3x1)\n\n# Знаходимо добуток матриці на вектор\nproduct = np.dot(matrix_2x3, vector_3x1)\nprint(\"\\nДобуток матриці на вектор:\")\nprint(product)\n",
      "metadata": {
        "trusted": true
      },
      "outputs": [
        {
          "name": "stdout",
          "text": "Матриця 2x3:\n[[5 4 8]\n [7 1 2]]\n\nВектор 3x1:\n[[ 1]\n [10]\n [ 1]]\n\nДобуток матриці на вектор:\n[[53]\n [19]]\n",
          "output_type": "stream"
        }
      ],
      "execution_count": 12
    },
    {
      "id": "62c4f1a3-c7e1-4558-ac6d-b7e6027b3e8a",
      "cell_type": "markdown",
      "source": "Завдання 12. Створіть дві матриці розміром 2x2, заповніть їх випадковими цілими числами в\nдіапазоні від 1 до 10 та знайдіть їхню суму.",
      "metadata": {}
    },
    {
      "id": "fd94cdca-1659-4663-8ebb-6c712954babe",
      "cell_type": "code",
      "source": "import numpy as np\n\n# Створюємо першу матрицю розміром 2x2 з випадковими цілими числами від 1 до 10\nmatrix1 = np.random.randint(1, 11, size=(2, 2))\nprint(\"Матриця 1:\")\nprint(matrix1)\n\n# Створюємо другу матрицю розміром 2x2 з випадковими цілими числами від 1 до 10\nmatrix2 = np.random.randint(1, 11, size=(2, 2))\nprint(\"\\nМатриця 2:\")\nprint(matrix2)\n\n# Знаходимо суму матриць\nmatrix_sum = matrix1 + matrix2\nprint(\"\\nСума матриць:\")\nprint(matrix_sum)\n",
      "metadata": {
        "trusted": true
      },
      "outputs": [
        {
          "name": "stdout",
          "text": "Матриця 1:\n[[8 2]\n [9 8]]\n\nМатриця 2:\n[[10  9]\n [ 4  6]]\n\nСума матриць:\n[[18 11]\n [13 14]]\n",
          "output_type": "stream"
        }
      ],
      "execution_count": 13
    },
    {
      "id": "c943e1bd-17f2-4097-81a6-01c5ff60ce3d",
      "cell_type": "markdown",
      "source": "Завдання 13. Створіть дві матриці розміром 2x2, заповніть їх випадковими дійсними числами в\nдіапазоні від 0 до 1 та знайдіть їх добуток.",
      "metadata": {}
    },
    {
      "id": "8732a703-f26d-449c-8e6d-e3eb1ca9f359",
      "cell_type": "code",
      "source": "import numpy as np\n\n# Створюємо першу матрицю розміром 2x2 з випадковими дійсними числами від 0 до 1\nmatrix1 = np.random.rand(2, 2)\nprint(\"Матриця 1:\")\nprint(matrix1)\n\n# Створюємо другу матрицю розміром 2x2 з випадковими дійсними числами від 0 до 1\nmatrix2 = np.random.rand(2, 2)\nprint(\"\\nМатриця 2:\")\nprint(matrix2)\n\n# Знаходимо добуток матриць\nmatrix_product = np.dot(matrix1, matrix2)\nprint(\"\\nДобуток матриць:\")\nprint(matrix_product)\n",
      "metadata": {
        "trusted": true
      },
      "outputs": [
        {
          "name": "stdout",
          "text": "Матриця 1:\n[[0.52779094 0.79867188]\n [0.57874525 0.53595518]]\n\nМатриця 2:\n[[0.97161149 0.00328154]\n [0.09188932 0.61609893]]\n\nДобуток матриць:\n[[0.58619716 0.49379286]\n [0.6115641  0.33210059]]\n",
          "output_type": "stream"
        }
      ],
      "execution_count": 14
    },
    {
      "id": "2192f366-12cb-4c12-b89c-59a08e6f89fd",
      "cell_type": "markdown",
      "source": "Завдання 14. Створіть матрицю розміром 5x5, заповніть її випадковими дійсними числами в\nдіапазоні від 0 до 1 та знайдіть суму елементів матриці.",
      "metadata": {}
    },
    {
      "id": "2b5eebf9-eb8e-424e-ba87-d868ba7b88d5",
      "cell_type": "code",
      "source": "import numpy as np\n\n# Створюємо матрицю розміром 5x5 з випадковими дійсними числами від 0 до 1\nmatrix_5x5 = np.random.rand(5, 5)\nprint(\"Матриця 5x5:\")\nprint(matrix_5x5)\n\n# Знаходимо суму всіх елементів матриці\nsum_of_elements = np.sum(matrix_5x5)\nprint(\"\\nСума всіх елементів матриці:\")\nprint(sum_of_elements)\n",
      "metadata": {
        "trusted": true
      },
      "outputs": [
        {
          "name": "stdout",
          "text": "Матриця 5x5:\n[[0.59177806 0.742019   0.30782505 0.19719179 0.88516214]\n [0.11218548 0.21306998 0.909169   0.16710805 0.05431998]\n [0.28364197 0.80927981 0.93614106 0.69590865 0.07780506]\n [0.05884246 0.78158413 0.29288416 0.36659142 0.46209601]\n [0.27756911 0.31872362 0.21006642 0.75007868 0.49987903]]\n\nСума всіх елементів матриці:\n11.000920126627275\n",
          "output_type": "stream"
        }
      ],
      "execution_count": 15
    },
    {
      "id": "20e4b0ed-91dd-44c3-a1c2-6e968326f1c2",
      "cell_type": "markdown",
      "source": "Завдання 15. Створіть матрицю розміром 3x3, заповніть її випадковими дійсними числами в\nдіапазоні від -1 до 1 та знайдіть вектор-стовпчик, що містить суму елементів кожного\nрядка матриці.",
      "metadata": {}
    },
    {
      "id": "32c96688-68a8-4add-b376-9561d5387690",
      "cell_type": "code",
      "source": "import numpy as np\n\n# Створюємо матрицю розміром 3x3 з випадковими дійсними числами від -1 до 1\nmatrix_3x3 = np.random.uniform(-1, 1, size=(3, 3))\nprint(\"Матриця 3x3:\")\nprint(matrix_3x3)\n\n# Знаходимо суму елементів кожного рядка матриці\nsum_of_rows = np.sum(matrix_3x3, axis=1)\nprint(\"\\nВектор-стовпчик з сумами елементів кожного рядка:\")\nprint(sum_of_rows)\n",
      "metadata": {
        "trusted": true
      },
      "outputs": [
        {
          "name": "stdout",
          "text": "Матриця 3x3:\n[[-0.45351388  0.33186517 -0.41744222]\n [-0.00099141 -0.14085417  0.88670491]\n [ 0.12203862  0.34845427 -0.16457123]]\n\nВектор-стовпчик з сумами елементів кожного рядка:\n[-0.53909092  0.74485934  0.30592166]\n",
          "output_type": "stream"
        }
      ],
      "execution_count": 16
    },
    {
      "id": "b0b05404-4bf3-4e9d-89ba-cefd84a19612",
      "cell_type": "markdown",
      "source": "Ось висновок по роботі з матрицями та векторами:\n\n### Висновок\n\n1. **Створення матриць і векторів**:\n   - Ми використали бібліотеку `numpy` для створення матриць та векторів різних розмірів і заповнення їх випадковими числами. Це дозволяє легко маніпулювати даними та виконувати математичні операції.\n\n2. **Операції з матрицями і векторами**:\n   - **Добуток матриці та вектора**: Ми обчислили добуток матриці розміром 3x4 на вектор розміром 4x1. Це показує, як матриці та вектори можуть бути використані для обчислень у лінійній алгебрі.\n   - **Сума матриць**: Знайшли суму двох матриць розміром 2x2. Цей простий приклад демонструє, як елементи матриць можна додавати поелементно.\n   - **Добуток матриць**: Обчислили добуток двох матриць розміром 2x2. Цей приклад показує, як матриці можна множити між собою.\n   - **Сума елементів матриці**: Обчислили суму всіх елементів матриці розміром 5x5. Це показує, як легко можна агрегувати дані в матриці.\n   - **Сума рядків матриці**: Знайшли вектор-стовпчик, що містить суму елементів кожного рядка матриці 3x3. Це корисно для статистичних аналізів або агрегаційних операцій.\n\n3. **Практичне застосування**:\n   - Робота з матрицями та векторами є основою для чисельних обчислень, які використовуються в чисельних методах, машинному навчанні, статистичному аналізі та інших галузях науки і техніки.\n   - Вміння маніпулювати матрицями та векторами за допомогою бібліотеки `numpy` є важливим для обробки даних, моделювання і аналізу.\n\nЦі навички допомагають вирішувати різноманітні математичні та прикладні задачі, використовуючи потужний інструментарій Python.",
      "metadata": {}
    },
    {
      "id": "09a82426-7262-4792-825e-21698f0a2678",
      "cell_type": "code",
      "source": "",
      "metadata": {
        "trusted": true
      },
      "outputs": [],
      "execution_count": null
    }
  ]
}
